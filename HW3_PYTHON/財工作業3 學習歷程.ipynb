{
 "cells": [
  {
   "cell_type": "markdown",
   "metadata": {},
   "source": [
    "### 這次的作業為計算選擇權價格，計算的流程為先計算出每一期可能的股票價格，再用末期的股票價格與履約價推出最後一期的選擇權價格，有了最後一期的選擇權價格後，我們便可以用p和r往前推導出選擇權的現價"
   ]
  },
  {
   "cell_type": "code",
   "execution_count": 1,
   "metadata": {},
   "outputs": [
    {
     "name": "stdout",
     "output_type": "stream",
     "text": [
      "請輸入股價160\n",
      "請輸入u1.5\n",
      "請輸入d0.5\n",
      "請輸入r1.2\n",
      "請輸入履約價150\n",
      "請輸入期數3\n",
      "請輸入call(買權) or put(賣權)call\n"
     ]
    }
   ],
   "source": [
    "from decimal import *\n",
    "import numpy as np\n",
    "s=int(input(\"請輸入股價\"))\n",
    "u=float(input(\"請輸入u\"))\n",
    "d=float(input(\"請輸入d\"))\n",
    "r=float(input(\"請輸入r\"))\n",
    "x=float(input(\"請輸入履約價\"))\n",
    "n=int(input(\"請輸入期數\"))\n",
    "kind=input(\"請輸入call(買權) or put(賣權)\")\n",
    "\n",
    "p=(r-d)/(u-d)"
   ]
  },
  {
   "cell_type": "markdown",
   "metadata": {},
   "source": [
    "首先為套件的引入，因為這次我想利用numpy的array來存放各期股價和選擇權價值的資料，因此我引入了numpy的套件，decimal則是用來將最後推導出的選擇權價值四捨五入，import完需要的套件之後，再請使用者輸入需要的參數，包含了股價、u、d、r、履約價、期數、和選擇權種類，並先將後續計算選擇權價值需要的P計算好。"
   ]
  },
  {
   "cell_type": "code",
   "execution_count": null,
   "metadata": {},
   "outputs": [],
   "source": [
    "if kind == \"call\":\n",
    "    a=np.zeros( (n+1,n+1) )\n",
    "    a[0][0]=s\n",
    "    for i in range(1,n+1,1):\n",
    "        for j in range(0,i+1,1):\n",
    "            if j == 0:\n",
    "                a[i][j]=a[i-1][j]*u\n",
    "            else :\n",
    "                a[i][j]=a[i-1][j-1]*d\n",
    "\n",
    "\n",
    "    b=np.zeros( (n+1,n+1) )\n",
    "    for i in range(n,-1,-1):\n",
    "        for j in range(0,i+1,1):\n",
    "            if i== n:\n",
    "                b[i][j]=max(a[i][j]-x,0)\n",
    "            else:\n",
    "                b[i][j]=max((p*b[i+1][j]+(1-p)*b[i+1][j+1])/r,0)\n",
    "    print(\"買權價格為\",Decimal(b[0][0]).quantize(Decimal('0.001'), rounding=ROUND_HALF_UP))\n",
    "                               "
   ]
  },
  {
   "cell_type": "markdown",
   "metadata": {},
   "source": [
    "再來則先設立判斷式判斷是否為買權，接著則開始計算個其股價可能的價格，我的方式為先建立一個數值都為0的n+1xn+1的二維矩陣，再把計算好的股價\n",
    "宣告進入矩陣中，再設立一個數值都為0的n+1xn+1矩陣，並利用最末期的股價推導出最末期的選擇權價格，同時宣告進矩陣中，而前面期數的選擇權則是\n",
    "用後一期的選擇權價格以p和r加權並折現算出，最後即可推導出首期的選擇權價格。"
   ]
  },
  {
   "cell_type": "code",
   "execution_count": null,
   "metadata": {},
   "outputs": [],
   "source": [
    "\n",
    "else:\n",
    "    a=np.zeros( (n+1,n+1) )\n",
    "    a[0][0]=s\n",
    "    for i in range(1,n+1,1):\n",
    "        for j in range(0,i+1,1):\n",
    "            if j == 0:\n",
    "                a[i][j]=a[i-1][j]*u\n",
    "            else :\n",
    "                a[i][j]=a[i-1][j-1]*d\n",
    "    b=np.zeros( (n+1,n+1) )\n",
    "    for i in range(n,-1,-1):\n",
    "        for j in range(0,i+1,1):\n",
    "            if i== n:\n",
    "                b[i][j]=max(x-a[i][j],0)\n",
    "            else:\n",
    "                b[i][j]=max((p*b[i+1][j]+(1-p)*b[i+1][j+1])/r,0)\n",
    "    print(\"賣權價格為\",Decimal(b[0][0]).quantize(Decimal('0.001'), rounding=ROUND_HALF_UP))\n",
    "                               "
   ]
  },
  {
   "cell_type": "markdown",
   "metadata": {},
   "source": [
    "最後則是用很相似的方式去計算若為賣權的選擇權價格，差別只在於最後一期的計算方式不同，計算好末期的賣權價值後，即可用與買權相同的方式推導出目前的賣權價格。"
   ]
  }
 ],
 "metadata": {
  "kernelspec": {
   "display_name": "Python 3",
   "language": "python",
   "name": "python3"
  },
  "language_info": {
   "codemirror_mode": {
    "name": "ipython",
    "version": 3
   },
   "file_extension": ".py",
   "mimetype": "text/x-python",
   "name": "python",
   "nbconvert_exporter": "python",
   "pygments_lexer": "ipython3",
   "version": "3.7.4"
  }
 },
 "nbformat": 4,
 "nbformat_minor": 2
}
