{
 "cells": [
  {
   "cell_type": "code",
   "execution_count": 7,
   "metadata": {},
   "outputs": [
    {
     "name": "stdout",
     "output_type": "stream",
     "text": [
      "請輸入股價160\n",
      "請輸入u1.5\n",
      "請輸入d0.5\n",
      "請輸入r18.232\n",
      "請輸入履約價150\n",
      "請輸入期數3\n",
      "請輸入call(買權) or put(賣權)call\n",
      "買權價格為 85.069\n"
     ]
    }
   ],
   "source": [
    "from decimal import *\n",
    "import numpy as np\n",
    "s=int(input(\"請輸入股價\"))\n",
    "u=float(input(\"請輸入u\"))\n",
    "d=float(input(\"請輸入d\"))\n",
    "r=float(input(\"請輸入r\"))\n",
    "x=float(input(\"請輸入履約價\"))\n",
    "n=int(input(\"請輸入期數\"))\n",
    "kind=input(\"請輸入call(買權) or put(賣權)\")\n",
    "\n",
    "R=np.exp(r/100)\n",
    "p=(R-d)/(u-d)\n",
    "if kind == \"call\":\n",
    "    a=np.zeros( (n+1,n+1) )\n",
    "    a[0][0]=s\n",
    "    for i in range(1,n+1,1):\n",
    "        for j in range(0,i+1,1):\n",
    "            if j == 0:\n",
    "                a[i][j]=a[i-1][j]*u\n",
    "            else :\n",
    "                a[i][j]=a[i-1][j-1]*d\n",
    "\n",
    "\n",
    "    b=np.zeros( (n+1,n+1) )\n",
    "    for i in range(n,-1,-1):\n",
    "        for j in range(0,i+1,1):\n",
    "            if i== n:\n",
    "                b[i][j]=max(a[i][j]-x,0)\n",
    "            else:\n",
    "                b[i][j]=max((p*b[i+1][j]+(1-p)*b[i+1][j+1])/R,0)\n",
    "    print(\"買權價格為\",Decimal(b[0][0]).quantize(Decimal('0.001'), rounding=ROUND_HALF_UP))\n",
    "    \n",
    "else:\n",
    "    a=np.zeros( (n+1,n+1) )\n",
    "    a[0][0]=s\n",
    "    for i in range(1,n+1,1):\n",
    "        for j in range(0,i+1,1):\n",
    "            if j == 0:\n",
    "                a[i][j]=a[i-1][j]*u\n",
    "            else :\n",
    "                a[i][j]=a[i-1][j-1]*d\n",
    "    b=np.zeros( (n+1,n+1) )\n",
    "    for i in range(n,-1,-1):\n",
    "        for j in range(0,i+1,1):\n",
    "            if i== n:\n",
    "                b[i][j]=max(x-a[i][j],0)\n",
    "            else:\n",
    "                b[i][j]=max((p*b[i+1][j]+(1-p)*b[i+1][j+1])/R,0)\n",
    "    print(\"賣權價格為\",Decimal(b[0][0]).quantize(Decimal('0.001'), rounding=ROUND_HALF_UP))\n",
    "                               "
   ]
  }
 ],
 "metadata": {
  "kernelspec": {
   "display_name": "Python 3",
   "language": "python",
   "name": "python3"
  },
  "language_info": {
   "codemirror_mode": {
    "name": "ipython",
    "version": 3
   },
   "file_extension": ".py",
   "mimetype": "text/x-python",
   "name": "python",
   "nbconvert_exporter": "python",
   "pygments_lexer": "ipython3",
   "version": "3.7.4"
  }
 },
 "nbformat": 4,
 "nbformat_minor": 2
}
