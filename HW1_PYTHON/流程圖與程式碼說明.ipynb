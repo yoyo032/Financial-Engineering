{
 "cells": [
  {
   "cell_type": "code",
   "execution_count": null,
   "metadata": {},
   "outputs": [],
   "source": [
    "from decimal import *\n",
    "import pandas as pd\n",
    "import numpy as np\n",
    "import math\n",
    "x=10000*int(input('請輸入本金'))\n",
    "y=int(input('請輸入期數'))\n",
    "r=0.01*int(input('請輸入利息'))\n",
    "a = math.ceil(x/12/y)\n",
    "al = []\n",
    "bl = []\n",
    "cl = []\n",
    "period=[]"
   ]
  },
  {
   "cell_type": "markdown",
   "metadata": {},
   "source": [
    "先import需要的套件，並要求使用者輸入本金、期數、利息，再建立待會需要用到的四個[]，分別存放每一期的本金、利息、本金利息累計與期數。"
   ]
  },
  {
   "cell_type": "code",
   "execution_count": null,
   "metadata": {},
   "outputs": [],
   "source": [
    "i=1\n",
    "while i < (y)*12+1:\n",
    "        ai=min(a,x-a*(i-1))\n",
    "        bi= (x-sum(al))*(r)*1/12\n",
    "        bl.append( int((Decimal(bi).quantize(Decimal('1'), rounding=ROUND_HALF_UP))) )\n",
    "        al.append( ai )"
   ]
  },
  {
   "cell_type": "markdown",
   "metadata": {},
   "source": [
    "設立一個while迴圈，讓期數在最後一期之後跳出，並設定每一期要支付的本金判別式，讓最後一期的本金可以正確被計算，而利息則是前一期剩下的本金總額乘以利率，因此要先計算出當期要支付的利息後，再將當期支付的利息append到利息的數列。而利息的四捨五入部分則是使用decimal套件與rounding的hound_half_up功能來計算。"
   ]
  },
  {
   "cell_type": "code",
   "execution_count": null,
   "metadata": {},
   "outputs": [],
   "source": [
    "        ci= sum(al)+sum(bl)\n",
    "        cl.append( ci )\n",
    "        peri=str(\"第\"+str(i)+\"期\")\n",
    "        period.append( peri )\n",
    "        i+=1"
   ]
  },
  {
   "cell_type": "markdown",
   "metadata": {},
   "source": [
    "append完當期的利息與本金後，再將截至當期的利息與本金加總，及可得到當期的本金利息總和，再append到數列中，而期數的呈現則是透過字串的結合，同樣也append到period的數列中。"
   ]
  },
  {
   "cell_type": "code",
   "execution_count": null,
   "metadata": {},
   "outputs": [],
   "source": [
    "        dic={ \"本金\":al, \"利息\":bl, \"本金利息累計\":cl}\n",
    "df=pd.DataFrame(dic,index=period)\n",
    "df"
   ]
  },
  {
   "cell_type": "markdown",
   "metadata": {},
   "source": [
    "最後用dataframe將本金、利息、本金利息總和與期數結合，再用df的方式將結果呈現。"
   ]
  }
 ],
 "metadata": {
  "kernelspec": {
   "display_name": "Python 3",
   "language": "python",
   "name": "python3"
  },
  "language_info": {
   "codemirror_mode": {
    "name": "ipython",
    "version": 3
   },
   "file_extension": ".py",
   "mimetype": "text/x-python",
   "name": "python",
   "nbconvert_exporter": "python",
   "pygments_lexer": "ipython3",
   "version": "3.7.4"
  }
 },
 "nbformat": 4,
 "nbformat_minor": 2
}
