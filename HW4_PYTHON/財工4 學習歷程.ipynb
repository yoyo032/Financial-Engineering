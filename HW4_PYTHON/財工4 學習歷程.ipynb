{
 "cells": [
  {
   "cell_type": "markdown",
   "metadata": {},
   "source": [
    "這次主要的作業是要計算出有配股利的股票選擇權價格，讓使用者輸入可以自訂的參數後，分別計算出買權和賣權的選擇權價格。"
   ]
  },
  {
   "cell_type": "code",
   "execution_count": null,
   "metadata": {},
   "outputs": [],
   "source": [
    "from decimal import *\n",
    "import math\n",
    "import numpy as np\n",
    "from scipy.stats import norm\n",
    "s=float(input(\"請輸入current stock price\"))\n",
    "sig=float(input(\"請輸入sigma\"))\n",
    "t=int(input(\"請輸入dividend次數\"))\n",
    "d=float(input(\"請輸入dividend\"))\n",
    "r=float(input(\"請輸入利率\"))\n",
    "x=float(input(\"請輸入exercise price\"))\n",
    "m=int(input(\"請輸入到期月份\"))"
   ]
  },
  {
   "cell_type": "markdown",
   "metadata": {},
   "source": [
    "首先我們先import需要的套件，分別為四捨五入用的decimal、計算連續複利用到的math、計算ln需要的numpy、和取得normal distribution cdf\n",
    "值所需要的scipy.stats套件，import完之後，便讓使用者輸入可自訂的參數，分別為current stock price、sigma、dividend次數、dividend、利率、exercise price、到期月份。"
   ]
  },
  {
   "cell_type": "code",
   "execution_count": null,
   "metadata": {},
   "outputs": [],
   "source": [
    "D=sum([d*(math.exp(-r*(1+3*i)/12)) for i in range(0,t,1)])\n",
    "S=float(Decimal(s-D).quantize(Decimal('0.01'), rounding=ROUND_HALF_UP))"
   ]
  },
  {
   "cell_type": "markdown",
   "metadata": {},
   "source": [
    "再來第一個要計算的是股利的折現值，這裡用老師上課假設的第一個月之後每隔三個月配息，因此會配息的月份為1、4、7、10，至於實際上會拿到幾次需視每年的dividend次數而定，計算完D之後，便將股票現價減去股利的折現值D，即可得到稍後要用到的s"
   ]
  },
  {
   "cell_type": "code",
   "execution_count": null,
   "metadata": {},
   "outputs": [],
   "source": [
    "d1=((np.log(S/x))+((r+((sig**2)/2))*(m/12)))/(sig*((m/12)**(1/2)))\n",
    "d1=float(Decimal(d1).quantize(Decimal('0.001'), rounding=ROUND_HALF_UP))\n",
    "d2=d1-sig*((m/12)**(1/2))\n",
    "d2=float(Decimal(d2).quantize(Decimal('0.001'), rounding=ROUND_HALF_UP))\n",
    "nd1=float(Decimal(norm.cdf(d1)).quantize(Decimal('0.0001'), rounding=ROUND_HALF_UP))\n",
    "nd2 = float(Decimal(norm.cdf(d2)).quantize(Decimal('0.0001'), rounding=ROUND_HALF_UP))\n",
    "_nd1 = float(Decimal(norm.cdf(-1*d1)).quantize(Decimal('0.0001'), rounding=ROUND_HALF_UP))\n",
    "_nd2 = float(Decimal(norm.cdf(-1*d2)).quantize(Decimal('0.0001'), rounding=ROUND_HALF_UP))\n"
   ]
  },
  {
   "cell_type": "markdown",
   "metadata": {},
   "source": [
    "有了減去股利折現值的s之後，我們就可以開始計算d1、d2，而這裡為了要讓結果和老師算的一樣，因此在d1、d2及n(d1)、n(d2)、n(-d1)、n(-d2)都有使用decimal套件來進行四捨五入，並分別取到小數點第三位及第四位。"
   ]
  },
  {
   "cell_type": "code",
   "execution_count": null,
   "metadata": {},
   "outputs": [],
   "source": [
    "call=S*nd1-x*math.exp(-r*(m/12))*nd2\n",
    "call=Decimal(call).quantize(Decimal('0.01'), rounding=ROUND_HALF_UP)\n",
    "put=x*math.exp(-r*(m/12))*(_nd2)-S*(_nd1)\n",
    "put=Decimal(put).quantize(Decimal('0.01'), rounding=ROUND_HALF_UP)\n",
    "print(\"call option price is\"+'   '+str(call))\n",
    "print(\"put option price is\"+'   '+str(put))"
   ]
  },
  {
   "cell_type": "markdown",
   "metadata": {},
   "source": [
    "最後，我們即可將參數都帶入call和put的價格公式中，並將其計算出的結果四捨五入至小數點第二位，最後即可將結果呈現。"
   ]
  }
 ],
 "metadata": {
  "kernelspec": {
   "display_name": "Python 3",
   "language": "python",
   "name": "python3"
  },
  "language_info": {
   "codemirror_mode": {
    "name": "ipython",
    "version": 3
   },
   "file_extension": ".py",
   "mimetype": "text/x-python",
   "name": "python",
   "nbconvert_exporter": "python",
   "pygments_lexer": "ipython3",
   "version": "3.7.4"
  }
 },
 "nbformat": 4,
 "nbformat_minor": 2
}
