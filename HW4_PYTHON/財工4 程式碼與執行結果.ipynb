{
 "cells": [
  {
   "cell_type": "code",
   "execution_count": 18,
   "metadata": {},
   "outputs": [
    {
     "name": "stdout",
     "output_type": "stream",
     "text": [
      "請輸入current stock price75\n",
      "請輸入sigma0.35\n",
      "請輸入dividend次數2\n",
      "請輸入dividend1\n",
      "請輸入利率0.06\n",
      "請輸入exercise price65\n",
      "請輸入到期月份6\n",
      "call option price is   12.79\n",
      "put option price is   2.85\n"
     ]
    }
   ],
   "source": [
    "from decimal import *\n",
    "import math\n",
    "import numpy as np\n",
    "from scipy.stats import norm\n",
    "s=float(input(\"請輸入current stock price\"))\n",
    "sig=float(input(\"請輸入sigma\"))\n",
    "t=int(input(\"請輸入dividend次數\"))\n",
    "d=float(input(\"請輸入dividend\"))\n",
    "r=float(input(\"請輸入利率\"))\n",
    "x=float(input(\"請輸入exercise price\"))\n",
    "m=int(input(\"請輸入到期月份\"))\n",
    "\n",
    "D=sum([d*(math.exp(-r*(1+3*i)/12)) for i in range(0,t,1)])\n",
    "S=float(Decimal(s-D).quantize(Decimal('0.01'), rounding=ROUND_HALF_UP))\n",
    "d1=((np.log(S/x))+((r+((sig**2)/2))*(m/12)))/(sig*((m/12)**(1/2)))\n",
    "d1=float(Decimal(d1).quantize(Decimal('0.001'), rounding=ROUND_HALF_UP))\n",
    "d2=d1-sig*((m/12)**(1/2))\n",
    "d2=float(Decimal(d2).quantize(Decimal('0.001'), rounding=ROUND_HALF_UP))\n",
    "nd1=float(Decimal(norm.cdf(d1)).quantize(Decimal('0.0001'), rounding=ROUND_HALF_UP))\n",
    "nd2 = float(Decimal(norm.cdf(d2)).quantize(Decimal('0.0001'), rounding=ROUND_HALF_UP))\n",
    "_nd1 = float(Decimal(norm.cdf(-1*d1)).quantize(Decimal('0.0001'), rounding=ROUND_HALF_UP))\n",
    "_nd2 = float(Decimal(norm.cdf(-1*d2)).quantize(Decimal('0.0001'), rounding=ROUND_HALF_UP))\n",
    "call=S*nd1-x*math.exp(-r*(m/12))*nd2\n",
    "call=Decimal(call).quantize(Decimal('0.01'), rounding=ROUND_HALF_UP)\n",
    "put=x*math.exp(-r*(m/12))*(_nd2)-S*(_nd1)\n",
    "put=Decimal(put).quantize(Decimal('0.01'), rounding=ROUND_HALF_UP)\n",
    "print(\"call option price is\"+'   '+str(call))\n",
    "print(\"put option price is\"+'   '+str(put))"
   ]
  }
 ],
 "metadata": {
  "kernelspec": {
   "display_name": "Python 3",
   "language": "python",
   "name": "python3"
  },
  "language_info": {
   "codemirror_mode": {
    "name": "ipython",
    "version": 3
   },
   "file_extension": ".py",
   "mimetype": "text/x-python",
   "name": "python",
   "nbconvert_exporter": "python",
   "pygments_lexer": "ipython3",
   "version": "3.7.4"
  }
 },
 "nbformat": 4,
 "nbformat_minor": 2
}
