{
 "cells": [
  {
   "cell_type": "markdown",
   "metadata": {},
   "source": [
    "HW2\n",
    "========\n",
    "<font size=3>這次的作業主要為輸入價格、票面金額、票面利率、到期年間、每年付息次數來計算YTM,SPOT RATE,FORWARD RATE，並用Forward Form的形式將各期對應的Forward Rate呈現出來。</font>\n",
    "-------------------------------\n",
    "<font size=3>我的學習歷程依序為<br>\n",
    "----------------------\n",
    "<font size=3>ytm計算機<br>\n",
    "-----------------\n",
    "<font size=3>Spot rate計算機<br>\n",
    "-------------\n",
    "<font size=3>Forward rate計算機<br>\n",
    "-------------\n",
    "<font size=3>固定價格一次計算個期ytm,spot rate,forward rate<br>\n",
    "--------------------------\n",
    "首先為ytm 計算機，這是老師在課程投影片後段放的ytm計算範例，概念為輸入債券的相關條件，再用輸入的付息種類來判斷其數以及每期利息，並透過np.irr的套件計算出每期ytm，最後用Decimal套件將之四捨五入，並print出結果\n"
   ]
  },
  {
   "cell_type": "code",
   "execution_count": 2,
   "metadata": {},
   "outputs": [
    {
     "name": "stdout",
     "output_type": "stream",
     "text": [
      "請輸入債券價格950\n",
      "請輸入票面金額1000\n",
      "請輸入票面利率3\n",
      "請輸入期數3\n",
      "請輸入種類(輸入Annually or Semi-annually or Quarterly)Annually\n",
      "ytm為 4.8302 %\n"
     ]
    }
   ],
   "source": [
    "#ytm 計算機\n",
    "import numpy as np \n",
    "from decimal import *\n",
    "\n",
    "B=int(input(\"請輸入債券價格\"))  \n",
    "PVA=int(input(\"請輸入票面金額\"))    \n",
    "CR=float(input(\"請輸入票面利率\"))/100   \n",
    "Peri=int(input(\"請輸入期數\")) \n",
    "kind=input(\"請輸入種類(輸入Annually or Semi-annually or Quarterly)\")\n",
    "if kind == \"Annually\" :\n",
    "    C=float(CR*PVA*1)\n",
    "    Peri=Peri\n",
    "elif kind == \"Semi-annually\":\n",
    "    C=float(CR*PVA/2)\n",
    "    Peri=Peri*2\n",
    "else:\n",
    "    C=float(CR*PVA/4)\n",
    "    Peri=Peri*4     \n",
    "Coupon=[C for i in range (1,Peri)]    \n",
    "#print(Coupon)     \n",
    "Cf=[C+PVA]     \n",
    "CA=[-B]+Coupon+Cf    \n",
    "#print(CA)\n",
    "ytm=np.irr(CA)*100\n",
    "print(\"ytm為\",(Decimal(ytm).quantize(Decimal('0.0001'), rounding=ROUND_HALF_UP)),\"%\")"
   ]
  },
  {
   "cell_type": "markdown",
   "metadata": {},
   "source": [
    "再來是Spot Rate計算機，此為輸入債券到期年限與債券價格即可計算此年限的spot rate，而結果分為連續複利與不連續複利兩種，這裡假設債券面額為1。"
   ]
  },
  {
   "cell_type": "code",
   "execution_count": 3,
   "metadata": {},
   "outputs": [
    {
     "name": "stdout",
     "output_type": "stream",
     "text": [
      "請輸入spot rate期間3\n",
      "請輸入債券價格0.9\n",
      "五年期的spot rate of interest為 3.57 %\n",
      "五年期spot force of interest為 3.51 %\n"
     ]
    }
   ],
   "source": [
    "#Spot Rate 計算機\n",
    "import numpy as np \n",
    "from decimal import *\n",
    "\n",
    "peri=int(input(\"請輸入spot rate期間\"))\n",
    "bondprice=float(input(\"請輸入債券價格\"))\n",
    "y=(bondprice**(-1/peri)-1)*100\n",
    "Y=((-1/peri)*np.log(bondprice))*100\n",
    "y=(Decimal(y).quantize(Decimal('0.01'), rounding=ROUND_HALF_UP))\n",
    "Y=(Decimal(Y).quantize(Decimal('0.01'), rounding=ROUND_HALF_UP))\n",
    "print(\"五年期的spot rate of interest為\",y,\"%\")\n",
    "print(\"五年期spot force of interest為\",Y,\"%\")\n",
    "\n",
    "\n"
   ]
  },
  {
   "cell_type": "markdown",
   "metadata": {},
   "source": [
    "再來是Forward Rate計算機，此為輸入forward rate期間與duration和兩個不同年限的零息債券價格，即可求算出對應之forward rate之計算器。"
   ]
  },
  {
   "cell_type": "code",
   "execution_count": 11,
   "metadata": {},
   "outputs": [
    {
     "name": "stdout",
     "output_type": "stream",
     "text": [
      "請輸入forward rate 期間2\n",
      "請輸入forward rate的duration7\n",
      "請輸入7年的零息債券價格(面額為1)0.9\n",
      "請輸入9年的零息債券價格(面額為1)0.5\n",
      "0.34164078649987384\n"
     ]
    }
   ],
   "source": [
    "#Forward Rate計算機\n",
    "y1=input(\"請輸入forward rate 期間\")\n",
    "num_y1=int(y1)\n",
    "d=int(input(\"請輸入forward rate的duration\"))\n",
    "d2=str(d)\n",
    "y2_num=num_y1+d\n",
    "y2=str(y2_num)\n",
    "p1=float(input(\"請輸入\"+d2+\"年的零息債券價格(面額為1)\"))\n",
    "p2=float(input(\"請輸入\"+y2+\"年的零息債券價格(面額為1)\"))\n",
    "\n",
    "f=(p1/p2)**(1/num_y1)\n",
    "print(f-1)"
   ]
  },
  {
   "cell_type": "markdown",
   "metadata": {},
   "source": [
    "最後一個是老師上課說的主要的作業，就是透過輸入債券價格、面額、票面利率、到期年限、每年付息次數，即可以求出一個不同ytm、spot rate、forward rate，並且將forward rate以form的形式print出來，這題花了很多時間，反覆看了多次投影片，才明白為何可以這樣求出，因為我們固定了債券價格，並且是假設每一個不同到期年限的債券價格都是我們一開始輸入的那一個債券價格，於是我們可以推出不同年限的ytm、spot rate、和forward rate，在這一題用了大量的for loop，因為在算spot rate的時候，必須將每一次的現金流以不同的spot rate去折現，此過程及需要透過for loop來完成，而在print出結果的時候，因為這次想不要投過dateframe的方式，而是較直覺的直接將結果print出，因此也用到了大量的for loop迴圈，最後因為forward rate若不四捨五入則會使得forward rate的表格不太雅觀，因此我透過Decimal的套件將其四捨五入至小數點第四位。"
   ]
  },
  {
   "cell_type": "code",
   "execution_count": 12,
   "metadata": {},
   "outputs": [
    {
     "name": "stdout",
     "output_type": "stream",
     "text": [
      "請輸入債券價格950\n",
      "請輸入票面金額1000\n",
      "請輸入票面利率5\n",
      "請輸入期數5\n",
      "請輸入每年付息次數2\n",
      " \n",
      "YTM Form\n",
      " \n",
      "第0.5年ytm為\t0.07894736842105265\n",
      "第1.0年ytm為\t0.05196514279345754\n",
      "第1.5年ytm為\t0.04312436997615765\n",
      "第2.0年ytm為\t0.038733408850294415\n",
      "第2.5年ytm為\t0.03610886936188318\n",
      "第3.0年ytm為\t0.03436381090746221\n",
      "第3.5年ytm為\t0.0331199471634156\n",
      "第4.0年ytm為\t0.03218873360962715\n",
      "第4.5年ytm為\t0.03146565918875788\n",
      "第5.0年ytm為\t0.03088812320451506\n",
      " \n",
      "Spot Rate Form\n",
      " \n",
      "第0.5年spot rate為\t0.07894736842105265\n",
      "第1.0年spot rate為\t0.05196514279345754\n",
      "第1.5年spot rate為\t0.042670315796624614\n",
      "第2.0年spot rate為\t0.03822438147572482\n",
      "第2.5年spot rate為\t0.0355659256226355\n",
      "第3.0年spot rate為\t0.03379740456800362\n",
      "第3.5年spot rate為\t0.032536024676089736\n",
      "第4.0年spot rate為\t0.031590999869918424\n",
      "第4.5年spot rate為\t0.03085657859341251\n",
      "第5.0年spot rate為\t0.030269418047144336\n",
      " \n",
      "Forward Rate Form\n",
      " \n",
      "Y0.5\tY1.0\tY1.5\tY2.0\tY2.5\tY3.0\tY3.5\tY4.0\tY4.5\tY5.0\n",
      "x\t0.0257\t0.0250\t0.0250\t0.0250\t0.0250\t0.0250\t0.0250\t0.0250\t0.0250\n",
      "x\tx\t0.0243\t0.0247\t0.0248\t0.0248\t0.0249\t0.0249\t0.0249\t0.0249\n",
      "x\tx\tx\t0.0250\t0.0250\t0.0250\t0.0250\t0.0250\t0.0250\t0.0250\n",
      "x\tx\tx\tx\t0.0250\t0.0250\t0.0250\t0.0250\t0.0250\t0.0250\n",
      "x\tx\tx\tx\tx\t0.0250\t0.0250\t0.0250\t0.0250\t0.0250\n",
      "x\tx\tx\tx\tx\tx\t0.0250\t0.0250\t0.0250\t0.0250\n",
      "x\tx\tx\tx\tx\tx\tx\t0.0250\t0.0250\t0.0250\n",
      "x\tx\tx\tx\tx\tx\tx\tx\t0.0250\t0.0250\n",
      "x\tx\tx\tx\tx\tx\tx\tx\tx\t0.0250\n",
      "x\tx\tx\tx\tx\tx\tx\tx\tx\tx\t"
     ]
    }
   ],
   "source": [
    "#固定價格計算Ytm,Spot Rate,Forward Rate\n",
    "import numpy as np \n",
    "from decimal import *\n",
    "\n",
    "B=int(input(\"請輸入債券價格\"))  \n",
    "PVA=int(input(\"請輸入票面金額\"))    \n",
    "CR=float(input(\"請輸入票面利率\"))/100   \n",
    "Peri=int(input(\"請輸入期數\"))\n",
    "N=int(input(\"請輸入每年付息次數\"))\n",
    "print(\" \")\n",
    "C=float(CR*PVA/N)\n",
    "Peri=Peri*N\n",
    "spot=[]\n",
    "spot1=[]\n",
    "ytm=[]\n",
    "CA2=float(0)\n",
    "for i in range(0,Peri,1):\n",
    "    Coupon=[C for a in range (0,i)]  \n",
    "    #print(Coupon)\n",
    "    Cf=[C+PVA]  \n",
    "    #print(Cf)\n",
    "    CA=[-B]+Coupon+Cf\n",
    "    #print(CA)\n",
    "    spot.append(np.irr(CA))\n",
    "    if i < 2:\n",
    "        spotrate1=np.irr(CA)\n",
    "        spot1.append(spotrate1)\n",
    "        ytm.append(spotrate1)\n",
    "        #print(spotrate1,i)\n",
    "    else:\n",
    "        for a in range (0,i,1):\n",
    "            CA2=CA2+(C/((1+spot1[a])**(a+1)))\n",
    "            #print(CA2,i)\n",
    "        spotrate=(((B-CA2)/Cf[0])**(-(1/(i+1)))-1)\n",
    "        #print(B-CA2,Cf[0],i)\n",
    "        #print(((B-CA2)/Cf[0]),i)\n",
    "        #print((-(1/i+1)),i)\n",
    "        #print(spotrate,i)\n",
    "        spot1.append(spotrate)\n",
    "        ytm.append(np.irr(CA))\n",
    "        CA2=0\n",
    "#print(spot1)\n",
    "#print(ytm)\n",
    "print(\"YTM Form\")\n",
    "print(\" \")\n",
    "b=1\n",
    "for i in ytm:\n",
    "    print(\"第\"+str(b/N)+\"年ytm為\"+\"\\t\"+str(i),end='\\n')\n",
    "    b+=1\n",
    "print(\" \")\n",
    "print(\"Spot Rate Form\")\n",
    "print(\" \")\n",
    "a=1\n",
    "for i in spot1:\n",
    "    print(\"第\"+str(a/N)+\"年spot rate為\"+\"\\t\"+str(i),end='\\n')\n",
    "    a+=1\n",
    "print(\" \")\n",
    "\n",
    "#for i in range(0,Peri-1,1):\n",
    "    #print(((1+spot1[i+1]*2)**(i+2)/(1+spot1[i]*2)**(i+1))-1)\n",
    "print(\"Forward Rate Form\")\n",
    "print(\" \")\n",
    "for i in range(0,Peri,1):\n",
    "    if i < Peri-1:\n",
    "        print(\"Y\"+str((i+1)/N),end=\"\\t\")\n",
    "    else:\n",
    "        print(\"Y\"+str((i+1)/N),end='\\n')\n",
    "\n",
    "for i in range(0,Peri,1):\n",
    "    for j in range(0,Peri,1):\n",
    "        if i >= j :\n",
    "            print('x',end=\"\\t\")\n",
    "        elif j < Peri-1 :\n",
    "            print((Decimal(((1+spot1[j])**(j+1)/(1+spot1[i])**(i+1))**(1/(j-i))-1).quantize(Decimal('0.0001'), rounding=ROUND_HALF_UP)),end='\\t')\n",
    "        else :         \n",
    "            print((Decimal(((1+spot1[j])**(j+1)/(1+spot1[i])**(i+1))**(1/(j-i))-1).quantize(Decimal('0.0001'), rounding=ROUND_HALF_UP)),end='\\n')"
   ]
  }
 ],
 "metadata": {
  "kernelspec": {
   "display_name": "Python 3",
   "language": "python",
   "name": "python3"
  },
  "language_info": {
   "codemirror_mode": {
    "name": "ipython",
    "version": 3
   },
   "file_extension": ".py",
   "mimetype": "text/x-python",
   "name": "python",
   "nbconvert_exporter": "python",
   "pygments_lexer": "ipython3",
   "version": "3.7.4"
  }
 },
 "nbformat": 4,
 "nbformat_minor": 2
}
